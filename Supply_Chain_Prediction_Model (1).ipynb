{
  "nbformat": 4,
  "nbformat_minor": 0,
  "metadata": {
    "colab": {
      "provenance": []
    },
    "kernelspec": {
      "name": "python3",
      "display_name": "Python 3"
    },
    "language_info": {
      "name": "python"
    }
  },
  "cells": [
    {
      "cell_type": "markdown",
      "source": [
        "# **DataSet Generation For Food and Water**"
      ],
      "metadata": {
        "id": "CpXsUmNMZwhf"
      }
    },
    {
      "cell_type": "code",
      "source": [
        "import pandas as pd\n",
        "import numpy as np\n",
        "\n",
        "# Constants for food and water supply\n",
        "RICE_PER_PERSON_PER_DAY = 0.4  # kg\n",
        "VEGETABLES_PER_PERSON_PER_DAY = 0.2  # kg\n",
        "DRY_FOOD_PER_PERSON_PER_DAY = 0.15  # kg\n",
        "WATER_PER_PERSON_PER_DAY = 3.785  # liters (1 gallon)\n",
        "\n",
        "# Generate synthetic dataset for food and water supply\n",
        "def generate_food_water_data(num_samples=1000):\n",
        "    np.random.seed(42)\n",
        "    data = []\n",
        "\n",
        "    for _ in range(num_samples):\n",
        "        disaster_type = np.random.choice(['Flood', 'Storm', 'Earthquake', 'Drought'])\n",
        "        severity = np.random.randint(1, 6)  # Scale 1-5\n",
        "        area_size = np.random.randint(10, 5000)  # in square km\n",
        "        population_affected = np.random.randint(100, 50000)\n",
        "        duration = np.random.randint(1, 30)  # in days\n",
        "\n",
        "        # Calculate food and water supply\n",
        "        total_rice = population_affected * duration * np.random.uniform(0.9, 1.1) * RICE_PER_PERSON_PER_DAY  # kg\n",
        "        total_vegetables = population_affected * duration * np.random.uniform(0.9, 1.1) * VEGETABLES_PER_PERSON_PER_DAY  # kg\n",
        "        total_dry_food = population_affected * duration * np.random.uniform(0.9, 1.1) * DRY_FOOD_PER_PERSON_PER_DAY  # kg\n",
        "        total_water = population_affected * duration * np.random.uniform(0.9, 1.1) * WATER_PER_PERSON_PER_DAY\n",
        "\n",
        "        data.append([disaster_type, severity, area_size, population_affected, duration,\n",
        "                     total_rice, total_vegetables, total_dry_food, total_water])\n",
        "\n",
        "    df = pd.DataFrame(data, columns=[\"Disaster Type\", \"Severity\", \"Area Size (sq km)\", \"Population Affected\",\n",
        "                                     \"Duration (days)\", \"Rice Supply (kg)\", \"Vegetables Supply (kg)\",\n",
        "                                     \"Dry Food Supply (kg)\", \"Water Supply (liters)\"])\n",
        "    return df\n",
        "\n",
        "# Generate and save datasets\n",
        "food_water_df = generate_food_water_data()\n",
        "food_water_df.to_csv(\"synthetic_food_water_data.csv\", index=False)\n",
        "\n",
        "print(\"Datasets generated and saved successfully.\")\n"
      ],
      "metadata": {
        "colab": {
          "base_uri": "https://localhost:8080/"
        },
        "id": "0J3Fe2m1bLif",
        "outputId": "b428b78d-0fc3-4671-80b8-73565969ff16"
      },
      "execution_count": 1,
      "outputs": [
        {
          "output_type": "stream",
          "name": "stdout",
          "text": [
            "Datasets generated and saved successfully.\n"
          ]
        }
      ]
    },
    {
      "cell_type": "markdown",
      "source": [
        "# **DataSet Generation For Medicine and Clothing**\n",
        "\n"
      ],
      "metadata": {
        "id": "1vqO2oqCaS-n"
      }
    },
    {
      "cell_type": "code",
      "source": [
        "import pandas as pd\n",
        "import numpy as np\n",
        "\n",
        "# Generate synthetic dataset for medicine and clothing supply\n",
        "def generate_medicine_clothing_data(num_samples=1000):\n",
        "    np.random.seed(42)\n",
        "    data = []\n",
        "\n",
        "    for _ in range(num_samples):\n",
        "        disaster_type = np.random.choice(['Flood', 'Storm', 'Earthquake', 'Drought'])\n",
        "        severity = np.random.randint(1, 6)\n",
        "        area_size = np.random.randint(10, 5000)\n",
        "        population_affected = np.random.randint(100, 50000)\n",
        "        duration = np.random.randint(1, 30)\n",
        "\n",
        "        # Age and gender distribution\n",
        "        age_0_12 = np.random.uniform(0.1, 0.3) * population_affected\n",
        "        age_12_60 = np.random.uniform(0.5, 0.7) * population_affected\n",
        "        age_60_plus = population_affected - (age_0_12 + age_12_60)\n",
        "        female_ratio = np.random.uniform(0.45, 0.55)\n",
        "        females = female_ratio * population_affected\n",
        "\n",
        "        # Calculate supplies\n",
        "        baby_food = min(age_0_12 * duration * np.random.uniform(0.9, 1.1) * 0.2, 5000)  # kg\n",
        "        elder_medicine = min(age_60_plus * duration * np.random.uniform(0.9, 1.1), 10000)  # units\n",
        "        sanitary_items = min(females * duration * np.random.uniform(0.9, 1.1) * 0.5, 8000)  # units\n",
        "\n",
        "        clothing_fraction = np.random.uniform(0.2, 0.5)\n",
        "        clothing_supply = min(population_affected * clothing_fraction, 5000)\n",
        "\n",
        "        data.append([disaster_type, severity, area_size, population_affected, duration,\n",
        "                     age_0_12, age_12_60, age_60_plus, females, baby_food, elder_medicine,\n",
        "                     sanitary_items, clothing_supply])\n",
        "\n",
        "    df = pd.DataFrame(data, columns=[\"Disaster Type\", \"Severity\", \"Area Size (sq km)\", \"Population Affected\",\n",
        "                                     \"Duration (days)\", \"Age 0-12\", \"Age 12-60\", \"Age 60+\", \"Females\",\n",
        "                                     \"Baby Food (kg)\", \"Elder Medicine (units)\", \"Sanitary Items (units)\", \"Clothing Supply (sets)\"])\n",
        "    return df\n",
        "\n",
        "# Generate and save dataset\n",
        "medicine_clothing_df = generate_medicine_clothing_data()\n",
        "medicine_clothing_df.to_csv(\"synthetic_medicine_clothing_data.csv\", index=False)\n",
        "\n",
        "print(\"Medicine and Clothing dataset generated and saved successfully.\")"
      ],
      "metadata": {
        "colab": {
          "base_uri": "https://localhost:8080/"
        },
        "id": "UlHshEQ4b8d8",
        "outputId": "2dc6330e-3298-47c8-bfe2-2e1c908ac5da"
      },
      "execution_count": 2,
      "outputs": [
        {
          "output_type": "stream",
          "name": "stdout",
          "text": [
            "Medicine and Clothing dataset generated and saved successfully.\n"
          ]
        }
      ]
    },
    {
      "cell_type": "markdown",
      "source": [
        "# **Model training for predicting medicine and clothing supply**"
      ],
      "metadata": {
        "id": "YVJVyuEoaU5M"
      }
    },
    {
      "cell_type": "code",
      "source": [
        "import pandas as pd\n",
        "import numpy as np\n",
        "from sklearn.model_selection import train_test_split\n",
        "from sklearn.ensemble import RandomForestRegressor\n",
        "from sklearn.multioutput import MultiOutputRegressor\n",
        "from sklearn.metrics import mean_absolute_error, r2_score\n",
        "import pickle\n",
        "\n",
        "# Load dataset\n",
        "supply_df = pd.read_csv(\"synthetic_medicine_clothing_data.csv\")\n",
        "\n",
        "# One-hot encode disaster type\n",
        "supply_df = pd.get_dummies(supply_df, columns=[\"Disaster Type\"], drop_first=True)\n",
        "\n",
        "# Define features and target variables\n",
        "X = supply_df.drop(columns=[\"Baby Food (kg)\", \"Elder Medicine (units)\", \"Sanitary Items (units)\", \"Clothing Supply (sets)\"])\n",
        "y = supply_df[[\"Baby Food (kg)\", \"Elder Medicine (units)\", \"Sanitary Items (units)\", \"Clothing Supply (sets)\"]]\n",
        "\n",
        "# Store feature names for later use\n",
        "feature_names = X.columns\n",
        "\n",
        "def train_model():\n",
        "    # Split data into training and testing sets\n",
        "    X_train, X_test, y_train, y_test = train_test_split(X, y, test_size=0.2, random_state=42, shuffle=True)\n",
        "\n",
        "    # Train the model with optimized hyperparameters\n",
        "    base_model =RandomForestRegressor(n_estimators=750, max_depth=45, min_samples_split=3, min_samples_leaf=1, max_features=0.8, random_state=42)\n",
        "    model = MultiOutputRegressor(base_model)\n",
        "    model.fit(X_train, y_train)\n",
        "\n",
        "    # Make predictions\n",
        "    y_pred = model.predict(X_test)\n",
        "\n",
        "    # Evaluate the model\n",
        "    mae = mean_absolute_error(y_test, y_pred)\n",
        "    r2 = r2_score(y_test, y_pred)\n",
        "\n",
        "    print(f\"Mean Absolute Error (MAE): {mae:.2f}\")\n",
        "    print(f\"R-Squared (R²): {r2:.2f}\")\n",
        "\n",
        "    # Save the trained model and feature names\n",
        "    with open(\"supply_model.pkl\", \"wb\") as file:\n",
        "        pickle.dump((model, feature_names), file)\n",
        "    print(\"Model saved successfully.\")\n",
        "\n",
        "\n",
        "# Example usage\n",
        "train_model()  # Uncomment to train model\n"
      ],
      "metadata": {
        "colab": {
          "base_uri": "https://localhost:8080/"
        },
        "id": "05JyciNUWmW1",
        "outputId": "1ba3c684-a453-4aa7-e1b9-f87249d81746"
      },
      "execution_count": 3,
      "outputs": [
        {
          "output_type": "stream",
          "name": "stdout",
          "text": [
            "Mean Absolute Error (MAE): 172.85\n",
            "R-Squared (R²): 0.95\n",
            "Model saved successfully.\n"
          ]
        }
      ]
    },
    {
      "cell_type": "markdown",
      "source": [
        "# **Model training for predicting food and water**"
      ],
      "metadata": {
        "id": "FLiANePFaUON"
      }
    },
    {
      "cell_type": "code",
      "source": [
        "import pandas as pd\n",
        "import numpy as np\n",
        "from sklearn.model_selection import train_test_split\n",
        "from sklearn.ensemble import RandomForestRegressor\n",
        "from sklearn.multioutput import MultiOutputRegressor\n",
        "from sklearn.metrics import mean_absolute_error, r2_score\n",
        "import pickle\n",
        "\n",
        "# Load dataset\n",
        "food_water_df = pd.read_csv(\"synthetic_food_water_data.csv\")\n",
        "\n",
        "# One-hot encode disaster type\n",
        "food_water_df = pd.get_dummies(food_water_df, columns=[\"Disaster Type\"], drop_first=True)\n",
        "\n",
        "# Define features and target variables\n",
        "X = food_water_df.drop(columns=[\"Rice Supply (kg)\", \"Vegetables Supply (kg)\", \"Dry Food Supply (kg)\", \"Water Supply (liters)\"])\n",
        "y = food_water_df[[\"Rice Supply (kg)\", \"Vegetables Supply (kg)\", \"Dry Food Supply (kg)\", \"Water Supply (liters)\"]]\n",
        "\n",
        "# Store feature names for later use\n",
        "feature_names = X.columns\n",
        "\n",
        "def train_model():\n",
        "    # Split data into training and testing sets\n",
        "    X_train, X_test, y_train, y_test = train_test_split(X, y, test_size=0.2, random_state=42, shuffle=True)\n",
        "\n",
        "    # Train the model with optimized hyperparameters\n",
        "    base_model = RandomForestRegressor(n_estimators=200, max_depth=11, min_samples_split=4, min_samples_leaf=1, max_features='sqrt', random_state=42)\n",
        "    model = MultiOutputRegressor(base_model)\n",
        "    model.fit(X_train, y_train)\n",
        "\n",
        "    # Make predictions\n",
        "    y_pred = model.predict(X_test)\n",
        "\n",
        "    # Evaluate the model\n",
        "    mae = mean_absolute_error(y_test, y_pred)\n",
        "    r2 = r2_score(y_test, y_pred)\n",
        "\n",
        "    print(f\"Mean Absolute Error (MAE): {mae:.2f}\")\n",
        "    print(f\"R-Squared (R²): {r2:.2f}\")\n",
        "\n",
        "    # Save the trained model and feature names\n",
        "    with open(\"food_water_model.pkl\", \"wb\") as file:\n",
        "        pickle.dump((model, feature_names), file)\n",
        "    print(\"Model saved successfully.\")\n",
        "\n",
        "# Example usage\n",
        "train_model()  # Uncomment to train model\n"
      ],
      "metadata": {
        "colab": {
          "base_uri": "https://localhost:8080/"
        },
        "id": "FnSgUZBmWvVv",
        "outputId": "38f228f4-d544-47cd-dfb6-87874e700343"
      },
      "execution_count": 4,
      "outputs": [
        {
          "output_type": "stream",
          "name": "stdout",
          "text": [
            "Mean Absolute Error (MAE): 59419.63\n",
            "R-Squared (R²): 0.94\n",
            "Model saved successfully.\n"
          ]
        }
      ]
    },
    {
      "cell_type": "markdown",
      "source": [
        "# ***Use this to predict the result***"
      ],
      "metadata": {
        "id": "AVt0STJoa7ld"
      }
    },
    {
      "cell_type": "code",
      "source": [
        "def predict_supply():\n",
        "    # Load the trained models\n",
        "    with open(\"food_water_model.pkl\", \"rb\") as file:\n",
        "        food_water_model, food_water_features = pickle.load(file)\n",
        "    with open(\"supply_model.pkl\", \"rb\") as file:\n",
        "        supply_model, supply_features = pickle.load(file)\n",
        "\n",
        "    # Take user input\n",
        "    severity = int(input(\"Enter severity level (1-5): \"))\n",
        "    area_size = float(input(\"Enter affected area size (sq km): \"))\n",
        "    age_0_12 = int(input(\"Enter number of affected children (0-12 years): \"))\n",
        "    age_12_60 = int(input(\"Enter number of affected adults (12-60 years): \"))\n",
        "    age_60_plus = int(input(\"Enter number of affected elderly (60+ years): \"))\n",
        "    gender_ratio = float(input(\"Enter gender ratio (male:female) as a number (e.g., 1:1.2 enter 1.2): \"))\n",
        "    duration = int(input(\"Enter disaster duration (days): \"))\n",
        "    disaster_type = input(\"Enter disaster type (Flood, Storm, Earthquake, Drought): \")\n",
        "\n",
        "    # Calculate total population\n",
        "    population_affected = age_0_12 + age_12_60 + age_60_plus\n",
        "    females = int((gender_ratio / (1 + gender_ratio)) * population_affected)\n",
        "\n",
        "    # Prepare input data\n",
        "    example_input = pd.DataFrame({\n",
        "        \"Severity\": [severity],\n",
        "        \"Area Size (sq km)\": [area_size],\n",
        "        \"Population Affected\": [population_affected],\n",
        "        \"Duration (days)\": [duration],\n",
        "        \"Age 0-12\": [age_0_12],\n",
        "        \"Age 12-60\": [age_12_60],\n",
        "        \"Age 60+\": [age_60_plus],\n",
        "        \"Females\": [females]\n",
        "    })\n",
        "\n",
        "    # Add disaster type encoding\n",
        "    for dtype in [\"Flood\", \"Storm\", \"Earthquake\", \"Drought\"]:\n",
        "        example_input[f\"Disaster Type_{dtype}\"] = [1 if dtype.lower() == disaster_type.lower() else 0]\n",
        "\n",
        "    # Ensure all features are present\n",
        "    food_water_input = example_input.reindex(columns=food_water_features, fill_value=0)\n",
        "    supply_input = example_input.reindex(columns=supply_features, fill_value=0)\n",
        "\n",
        "    # Make predictions\n",
        "    predicted_food_water = food_water_model.predict(food_water_input)[0] * duration\n",
        "    predicted_supply = supply_model.predict(supply_input)[0] * duration\n",
        "\n",
        "    print(\"Predicted Food & Water Supply:\")\n",
        "    print(f\"  - Rice Supply: {predicted_food_water[0]:.2f} kg\")\n",
        "    print(f\"  - Vegetables Supply: {predicted_food_water[1]:.2f} kg\")\n",
        "    print(f\"  - Dry Food Supply: {predicted_food_water[2]:.2f} kg\")\n",
        "    print(f\"  - Water Supply: {predicted_food_water[3]:.2f} liters\")\n",
        "\n",
        "    print(\"\\nPredicted Medicine & Clothing Supply:\")\n",
        "    print(f\"  - Baby Food: {predicted_supply[0]:.2f} kg\")\n",
        "    print(f\"  - Elder Medicine: {predicted_supply[1]:.2f} units\")\n",
        "    print(f\"  - Sanitary Items: {predicted_supply[2]:.2f} units\")\n",
        "    print(f\"  - Clothing Supply: {predicted_supply[3]:.2f} sets\")\n",
        "\n",
        "\n",
        "predict_supply()  # Uncomment to predict based on user input"
      ],
      "metadata": {
        "colab": {
          "base_uri": "https://localhost:8080/"
        },
        "id": "BSdKTzvnbw-l",
        "outputId": "b0690425-2490-4e13-e9f4-21ab08114e42"
      },
      "execution_count": 5,
      "outputs": [
        {
          "output_type": "stream",
          "name": "stdout",
          "text": [
            "Enter severity level (1-5): 4\n",
            "Enter affected area size (sq km): 1500\n",
            "Enter number of affected children (0-12 years): 10000\n",
            "Enter number of affected adults (12-60 years): 80000\n",
            "Enter number of affected elderly (60+ years): 7000\n",
            "Enter gender ratio (male:female) as a number (e.g., 1:1.2 enter 1.2): 0.93\n",
            "Enter disaster duration (days): 10\n",
            "Enter disaster type (Flood, Storm, Earthquake, Drought): Storm\n",
            "Predicted Food & Water Supply:\n",
            "  - Rice Supply: 1605869.87 kg\n",
            "  - Vegetables Supply: 878973.18 kg\n",
            "  - Dry Food Supply: 653064.93 kg\n",
            "  - Water Supply: 15367217.25 liters\n",
            "\n",
            "Predicted Medicine & Clothing Supply:\n",
            "  - Baby Food: 50000.00 kg\n",
            "  - Elder Medicine: 100000.00 units\n",
            "  - Sanitary Items: 80000.00 units\n",
            "  - Clothing Supply: 50000.00 sets\n"
          ]
        }
      ]
    },
    {
      "cell_type": "markdown",
      "source": [
        "# **Model Description**"
      ],
      "metadata": {
        "id": "1nBFs9YUegh_"
      }
    },
    {
      "cell_type": "markdown",
      "source": [
        "**Disaster Relief Supply Prediction Model**\n",
        "\n",
        "### Overview\n",
        "This model predicts the required quantities of food, water, medicine, and clothing supplies for disaster relief efforts. It utilizes historical data to estimate the supply needs based on disaster type, severity, affected population, and other critical factors.\n",
        "\n",
        "### Features\n",
        "- **Multi-Output Regression Model**: Uses RandomForestRegressor wrapped in MultiOutputRegressor to predict multiple supply categories simultaneously.\n",
        "- **One-Hot Encoding**: Encodes disaster types (Flood, Storm, Earthquake, Drought) for effective model training.\n",
        "- **Hyperparameter Optimization**: Fine-tuned hyperparameters for improved accuracy.\n",
        "- **User Input Integration**: Accepts real-time user inputs such as severity level, affected population, gender ratio, and duration to generate supply predictions.\n",
        "- **Dynamic Population Calculation**: Computes total affected population from different age groups and calculates the number of females based on the gender ratio.\n",
        "- **Multiplication by Duration**: Ensures the supply predictions are scaled according to the number of days the aid is required.\n",
        "\n",
        "### Inputs Required\n",
        "1. **Severity Level (1-5)**: Indicates the intensity of the disaster.\n",
        "2. **Affected Area Size (sq km)**: Represents the geographical extent of the disaster.\n",
        "3. **Number of Affected Individuals**: Categorized into:\n",
        "   - Children (0-12 years)\n",
        "   - Adults (12-60 years)\n",
        "   - Elderly (60+ years)\n",
        "4. **Gender Ratio (Male:Female)**: Converts into an estimated number of affected females.\n",
        "5. **Disaster Duration (days)**: Multiplies predictions to estimate required supplies over time.\n",
        "6. **Disaster Type**: Categorical input (Flood, Storm, Earthquake, Drought) that affects supply estimates.\n",
        "\n",
        "### Predictions\n",
        "- **Food & Water Supply**:\n",
        "  - Rice (kg)\n",
        "  - Vegetables (kg)\n",
        "  - Dry Food (kg)\n",
        "  - Water (liters)\n",
        "- **Medicine & Clothing Supply**:\n",
        "  - Baby Food (kg)\n",
        "  - Elder Medicine (units)\n",
        "  - Sanitary Items (units)\n",
        "  - Clothing Sets (sets)\n",
        "\n",
        "### Performance Metrics\n",
        "- **Food & Water Model**:\n",
        "  - **Mean Absolute Error (MAE):** 59,419.63\n",
        "  - **R-Squared (R²):** 0.94\n",
        "- **Medicine & Clothing Model**:\n",
        "  - **Mean Absolute Error (MAE):** 172.85\n",
        "  - **R-Squared (R²):** 0.95\n",
        "\n",
        "### Model Usage\n",
        "1. **Training**: The model is trained using a historical dataset containing past disaster relief efforts.\n",
        "2. **Prediction**: Based on user input, the trained model estimates the required supplies dynamically.\n",
        "\n",
        "### Conclusion\n",
        "This model provides a data-driven approach to disaster relief planning, ensuring efficient resource allocation. With its high R² values and optimized parameters, it offers reliable supply predictions for various disaster scenarios."
      ],
      "metadata": {
        "id": "DojcpZOGd4ik"
      }
    }
  ]
}